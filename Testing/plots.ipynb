{
 "cells": [
  {
   "cell_type": "code",
   "execution_count": 31,
   "metadata": {},
   "outputs": [
    {
     "ename": "ModuleNotFoundError",
     "evalue": "No module named 'data_clean'",
     "output_type": "error",
     "traceback": [
      "\u001b[0;31m---------------------------------------------------------------------------\u001b[0m",
      "\u001b[0;31mModuleNotFoundError\u001b[0m                       Traceback (most recent call last)",
      "\u001b[0;32m<ipython-input-31-5dbb2035520e>\u001b[0m in \u001b[0;36m<module>\u001b[0;34m\u001b[0m\n\u001b[1;32m      1\u001b[0m \u001b[0;32mimport\u001b[0m \u001b[0mnumpy\u001b[0m \u001b[0;32mas\u001b[0m \u001b[0mnp\u001b[0m\u001b[0;34m\u001b[0m\u001b[0;34m\u001b[0m\u001b[0m\n\u001b[1;32m      2\u001b[0m \u001b[0;32mimport\u001b[0m \u001b[0mmatplotlib\u001b[0m\u001b[0;34m.\u001b[0m\u001b[0mpyplot\u001b[0m \u001b[0;32mas\u001b[0m \u001b[0mplt\u001b[0m\u001b[0;34m\u001b[0m\u001b[0;34m\u001b[0m\u001b[0m\n\u001b[0;32m----> 3\u001b[0;31m \u001b[0;32mfrom\u001b[0m \u001b[0mdata_clean\u001b[0m \u001b[0;32mimport\u001b[0m \u001b[0mclean_data\u001b[0m\u001b[0;34m,\u001b[0m \u001b[0mgenerate_compare_dataset\u001b[0m\u001b[0;34m\u001b[0m\u001b[0;34m\u001b[0m\u001b[0m\n\u001b[0m",
      "\u001b[0;31mModuleNotFoundError\u001b[0m: No module named 'data_clean'"
     ]
    }
   ],
   "source": [
    "import numpy as np\n",
    "import matplotlib.pyplot as plt\n",
    "from data_clean import clean_data, generate_compare_dataset"
   ]
  },
  {
   "cell_type": "code",
   "execution_count": 32,
   "metadata": {},
   "outputs": [],
   "source": [
    "def plot_data_2(path1, path2):\n",
    "    data1R = clean_data(path1 + '/test1.csv', write_to_csv = False);\n",
    "    data1W = clean_data(path1 + '/test2.csv', write_to_csv = False);\n",
    "    data1A = clean_data(path1 + '/test3.csv', write_to_csv = False);\n",
    "    data2R = clean_data(path2 + '/test1.csv', write_to_csv = False);\n",
    "    data2W = clean_data(path2 + '/test2.csv', write_to_csv = False);\n",
    "    data2A = clean_data(path2 + '/test3.csv', write_to_csv = False);\n",
    "\n",
    "    plt.figure(figsize = (10,3))\n",
    "    plt.title(\"random\")\n",
    "    plt.yscale('log')\n",
    "    plt.xlabel('sol_size')\n",
    "    plt.ylabel('time')\n",
    "    # plot timeout\n",
    "    plt.plot(data1R.solsize, np.zeros(len(data1R.solsize)) + 300.0, color = \"red\", linewidth = 0.2 )\n",
    "    # data\n",
    "    plt.plot(data1R.solsize, data1R.time, \"x\", color = \"green\", label = path1)\n",
    "    plt.plot(data2R.solsize, data2R.time, \"x\", color = \"blue\", label = path2)\n",
    "    plt.legend()\n",
    "\n",
    "    plt.figure(figsize = (10,3))\n",
    "    plt.title(\"real world\")\n",
    "    plt.yscale('log')\n",
    "    plt.xlabel('sol_size')\n",
    "    plt.ylabel('time')\n",
    "    # plot timeout\n",
    "    plt.plot(data1W.solsize, np.zeros(len(data1W.solsize)) + 300.0, color = \"red\", linewidth = 0.2 )\n",
    "    # data\n",
    "    plt.plot(data1W.solsize, data1W.time, \"x\", color = \"green\", label = path1)\n",
    "    plt.plot(data2W.solsize, data2W.time, \"x\", color = \"blue\", label = path2)\n",
    "    plt.legend()\n",
    "    \n",
    "    plt.figure(figsize = (10,3))\n",
    "    plt.title(\"action sequence\")\n",
    "    plt.yscale('log')\n",
    "    plt.xlabel('sol_size')\n",
    "    plt.ylabel('time')\n",
    "    # plot timeout\n",
    "    plt.plot(data1A.solsize, np.zeros(len(data1A.solsize)) + 300.0, color = \"red\", linewidth = 0.2 )\n",
    "    # data\n",
    "    plt.plot(data1A.solsize, data1A.time, \"x\", color = \"green\", label = path1)\n",
    "    plt.plot(data2A.solsize, data2A.time, \"x\", color = \"blue\", label = path2)\n",
    "    plt.legend()\n"
   ]
  },
  {
   "cell_type": "code",
   "execution_count": 26,
   "metadata": {},
   "outputs": [],
   "source": [
    "def plot_data(path1):\n",
    "    dataR = clean_data(path1 + '/test1.csv', write_to_csv = False);\n",
    "    dataW = clean_data(path1 + '/test2.csv', write_to_csv = False);\n",
    "    dataA = clean_data(path1 + '/test3.csv', write_to_csv = False);\n",
    "\n",
    "    plt.figure(figsize = (10,5))\n",
    "    plt.title(path1)\n",
    "    \n",
    "    plt.yscale('log')\n",
    "        \n",
    "    plt.xlabel('solsize')\n",
    "    plt.ylabel('time')\n",
    "    \n",
    "    \n",
    "    # plot timeout\n",
    "    plt.plot(dataR.solsize, np.zeros(len(dataR.solsize)) + 300.0, color = \"red\", linewidth = 0.2 )\n",
    "        \n",
    "    plt.plot(dataR.solsize, dataR.time, \"x\", label = \"random\")\n",
    "    plt.plot(dataW.solsize, dataW.time, \"x\", label = \"real world\")\n",
    "    plt.plot(dataA.solsize, dataA.time, \"x\", label = \"action sequence\")\n",
    "\n",
    "    plt.legend(loc='upper left', )\n",
    "\n",
    "\n"
   ]
  },
  {
   "cell_type": "code",
   "execution_count": 27,
   "metadata": {},
   "outputs": [],
   "source": [
    "def plot_comparison(path1, path2, data_type = 'time'):\n",
    "    dataR = generate_compare_dataset(path1 + '/test1.csv', path2 + '/test1.csv', write_to_csv = False)\n",
    "    dataW = generate_compare_dataset(path1 + '/test2.csv', path2 + '/test2.csv', write_to_csv = False)\n",
    "    dataA = generate_compare_dataset(path1 + '/test3.csv', path2 + '/test3.csv', write_to_csv = False)\n",
    "    \n",
    "    plt.figure(figsize = (10,5))\n",
    "    plt.title(\"Comparison plot\")\n",
    "    plt.xscale(\"log\")\n",
    "    plt.yscale(\"log\")\n",
    "    plt.xlabel(\"time \" + path1)\n",
    "    plt.ylabel(\"time \" + path2)\n",
    "    \n",
    "    plt.plot(dataR.time1, dataR.time2, \"x\", label = \"random\")\n",
    "    plt.plot(dataW.time1, dataW.time2, \"x\", label = \"real world\")\n",
    "    plt.plot(dataA.time1, dataA.time2, \"x\", label = \"action sequence\")\n",
    "    \n",
    "    # comparison line\n",
    "    plt.plot(dataR.time1, dataR.time1, color = \"black\", linewidth = 0.2)\n",
    "    \n",
    "    # timeout\n",
    "    plt.plot(dataR.time1, np.zeros(len(dataR.time1)) + 300.0, color = \"red\", linewidth = 0.2 )\n",
    "    plt.plot( np.zeros(len(dataR.time1)) + 300.0, dataR.time1, color = \"red\", linewidth = 0.2 )\n",
    "    \n",
    "    plt.legend(loc='upper left', )\n"
   ]
  },
  {
   "cell_type": "code",
   "execution_count": 29,
   "metadata": {},
   "outputs": [
    {
     "data": {
      "image/png": "[encoded data removed]",
      "text/plain": [
       "<Figure size 720x360 with 1 Axes>"
      ]
     },
     "metadata": {
      "needs_background": "light"
     },
     "output_type": "display_data"
    }
   ],
   "source": [
    "plot_comparison('data/master/', 'data/components')"
   ]
  },
  {
   "cell_type": "code",
   "execution_count": 30,
   "metadata": {},
   "outputs": [
    {
     "data": {
      "image/png": "[encoded data removed]",
      "text/plain": [
       "<Figure size 720x360 with 1 Axes>"
      ]
     },
     "metadata": {
      "needs_background": "light"
     },
     "output_type": "display_data"
    }
   ],
   "source": [
    "plot_data('data/master/')\n",
    "#plot_data_2('data/master/', 'data/components')"
   ]
  },
  {
   "cell_type": "code",
   "execution_count": null,
   "metadata": {},
   "outputs": [],
   "source": []
  },
  {
   "cell_type": "code",
   "execution_count": null,
   "metadata": {},
   "outputs": [],
   "source": [
    "\n",
    "\n"
   ]
  },
  {
   "cell_type": "code",
   "execution_count": null,
   "metadata": {},
   "outputs": [],
   "source": []
  },
  {
   "cell_type": "code",
   "execution_count": null,
   "metadata": {},
   "outputs": [],
   "source": []
  },
  {
   "cell_type": "code",
   "execution_count": null,
   "metadata": {},
   "outputs": [],
   "source": []
  },
  {
   "cell_type": "code",
   "execution_count": null,
   "metadata": {},
   "outputs": [],
   "source": []
  },
  {
   "cell_type": "code",
   "execution_count": null,
   "metadata": {},
   "outputs": [],
   "source": []
  },
  {
   "cell_type": "code",
   "execution_count": null,
   "metadata": {},
   "outputs": [],
   "source": []
  },
  {
   "cell_type": "code",
   "execution_count": null,
   "metadata": {},
   "outputs": [],
   "source": []
  },
  {
   "cell_type": "code",
   "execution_count": null,
   "metadata": {},
   "outputs": [],
   "source": []
  },
  {
   "cell_type": "code",
   "execution_count": null,
   "metadata": {},
   "outputs": [],
   "source": []
  },
  {
   "cell_type": "code",
   "execution_count": null,
   "metadata": {},
   "outputs": [],
   "source": []
  },
  {
   "cell_type": "code",
   "execution_count": null,
   "metadata": {},
   "outputs": [],
   "source": []
  },
  {
   "cell_type": "code",
   "execution_count": null,
   "metadata": {},
   "outputs": [],
   "source": []
  },
  {
   "cell_type": "code",
   "execution_count": null,
   "metadata": {},
   "outputs": [],
   "source": []
  },
  {
   "cell_type": "code",
   "execution_count": 233,
   "metadata": {},
   "outputs": [],
   "source": []
  },
  {
   "cell_type": "code",
   "execution_count": null,
   "metadata": {},
   "outputs": [],
   "source": []
  }
 ],
 "metadata": {
  "kernelspec": {
   "display_name": "Python 3",
   "language": "python",
   "name": "python3"
  },
  "language_info": {
   "codemirror_mode": {
    "name": "ipython",
    "version": 3
   },
   "file_extension": ".py",
   "mimetype": "text/x-python",
   "name": "python",
   "nbconvert_exporter": "python",
   "pygments_lexer": "ipython3",
   "version": "3.8.3"
  }
 },
 "nbformat": 4,
 "nbformat_minor": 1
}
